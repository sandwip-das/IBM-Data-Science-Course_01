{
 "cells": [
  {
   "cell_type": "markdown",
   "id": "e9b40eba-fbbd-4616-a64c-ca95d0c82262",
   "metadata": {},
   "source": [
    "# Data Science Tools and Ecosystem"
   ]
  },
  {
   "cell_type": "markdown",
   "id": "6619aeb6-d610-4ec6-bd7b-11a93abc1433",
   "metadata": {},
   "source": [
    "## In this notebook, Data Science Tools and Ecosystem are summarized."
   ]
  },
  {
   "cell_type": "markdown",
   "id": "5d603461-e9ef-40b4-b48e-683f31df7579",
   "metadata": {},
   "source": [
    "### Some of the popular languages that Data Scientists use are:\n"
   ]
  },
  {
   "cell_type": "markdown",
   "id": "23903ddb-7ba4-4e78-b03c-eb5cf923f4ce",
   "metadata": {
    "tags": []
   },
   "source": [
    "1. Python\n",
    "2. R\n",
    "3. SQL\n",
    "4. Scala\n",
    "5. Java\n",
    "6. C++\n",
    "7. javascript\n"
   ]
  },
  {
   "cell_type": "markdown",
   "id": "ab9dc2bc-98a5-4234-acf7-010950853e20",
   "metadata": {},
   "source": [
    "### Some of the commonly used libraries used by Data Scientists include:\n",
    "1. NumPy\n",
    "2. SciPy\n",
    "3. matplotlib\n",
    "4. ggplot2\n",
    "5. Scikit-learn"
   ]
  },
  {
   "cell_type": "markdown",
   "id": "ab3c2e47-d322-4159-a069-cd737808169a",
   "metadata": {},
   "source": [
    "|Data Science Tools|\n",
    "--------------------\n",
    "|Jupyter|\n",
    "| RStudio|\n",
    "|Apache Spark|\n",
    "|Spyder|"
   ]
  },
  {
   "cell_type": "markdown",
   "id": "e4cd5f56-91c9-4183-8267-a592350f4ea3",
   "metadata": {},
   "source": [
    "### Below are a few examples of evaluating arithmetic expressions in Python:"
   ]
  },
  {
   "cell_type": "code",
   "execution_count": 4,
   "id": "4fb57f74-a34b-4cf9-855e-180512e10d4e",
   "metadata": {
    "tags": []
   },
   "outputs": [
    {
     "data": {
      "text/plain": [
       "17"
      ]
     },
     "execution_count": 4,
     "metadata": {},
     "output_type": "execute_result"
    }
   ],
   "source": [
    "# This a simple arithmetic expression to mutiply then add integers:\n",
    "\n",
    "(3*4)+5"
   ]
  },
  {
   "cell_type": "code",
   "execution_count": 7,
   "id": "210465ec-e65d-40e0-be1c-6b84d1aa0191",
   "metadata": {
    "tags": []
   },
   "outputs": [
    {
     "name": "stdout",
     "output_type": "stream",
     "text": [
      "3.3333333333333335\n"
     ]
    }
   ],
   "source": [
    "# This will convert 200 minutes to hours by diving by 60:\n",
    "\n",
    "a = 200\n",
    "b = 200/60\n",
    "print(b)"
   ]
  },
  {
   "cell_type": "markdown",
   "id": "1552bb04-c878-4902-a6bb-6b502b723b99",
   "metadata": {},
   "source": [
    "### **Objectives**\n",
    "* List popular languages for Data Science.\n",
    "* Popular libraries for Data Science.\n",
    "* Commonly or popular tools for Data Science.\n",
    "* Uses and functions of API, packages."
   ]
  },
  {
   "cell_type": "markdown",
   "id": "3de12723-4e4c-4d38-aa4d-af7ffd30b3aa",
   "metadata": {},
   "source": [
    "## Author\n",
    "Sandwip Kumar Das"
   ]
  },
  {
   "cell_type": "code",
   "execution_count": null,
   "id": "cf608bf5-0636-4363-b8c2-8e4f3300aa7d",
   "metadata": {},
   "outputs": [],
   "source": []
  }
 ],
 "metadata": {
  "kernelspec": {
   "display_name": "Python",
   "language": "python",
   "name": "conda-env-python-py"
  },
  "language_info": {
   "codemirror_mode": {
    "name": "ipython",
    "version": 3
   },
   "file_extension": ".py",
   "mimetype": "text/x-python",
   "name": "python",
   "nbconvert_exporter": "python",
   "pygments_lexer": "ipython3",
   "version": "3.7.12"
  },
  "toc-autonumbering": false,
  "toc-showcode": true,
  "toc-showmarkdowntxt": true,
  "toc-showtags": true
 },
 "nbformat": 4,
 "nbformat_minor": 5
}
